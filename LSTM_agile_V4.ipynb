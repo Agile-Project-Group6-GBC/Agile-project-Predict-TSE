{
  "nbformat": 4,
  "nbformat_minor": 0,
  "metadata": {
    "colab": {
      "name": "LSTM_agile.ipynb",
      "provenance": []
    },
    "kernelspec": {
      "name": "python3",
      "display_name": "Python 3"
    },
    "language_info": {
      "name": "python"
    },
    "accelerator": "GPU"
  },
  "cells": [
    {
      "cell_type": "code",
      "execution_count": 1,
      "metadata": {
        "id": "vRGqL5gy7AMA"
      },
      "outputs": [],
      "source": [
        "import numpy as np\n",
        "import matplotlib.pyplot as plt\n",
        "import pandas as pd"
      ]
    },
    {
      "cell_type": "code",
      "source": [
        "df = pd.read_csv('10100125.csv')"
      ],
      "metadata": {
        "id": "efLO1gqL7Qse"
      },
      "execution_count": 2,
      "outputs": []
    },
    {
      "cell_type": "code",
      "source": [
        "df.head()"
      ],
      "metadata": {
        "colab": {
          "base_uri": "https://localhost:8080/",
          "height": 600
        },
        "id": "PRLSRwoR7a3Y",
        "outputId": "f47f2a45-8454-4c5e-d932-95cb10c3a55b"
      },
      "execution_count": 3,
      "outputs": [
        {
          "output_type": "execute_result",
          "data": {
            "text/html": [
              "\n",
              "  <div id=\"df-ad077fbc-b8b7-469b-9637-5742c08f4a38\">\n",
              "    <div class=\"colab-df-container\">\n",
              "      <div>\n",
              "<style scoped>\n",
              "    .dataframe tbody tr th:only-of-type {\n",
              "        vertical-align: middle;\n",
              "    }\n",
              "\n",
              "    .dataframe tbody tr th {\n",
              "        vertical-align: top;\n",
              "    }\n",
              "\n",
              "    .dataframe thead th {\n",
              "        text-align: right;\n",
              "    }\n",
              "</style>\n",
              "<table border=\"1\" class=\"dataframe\">\n",
              "  <thead>\n",
              "    <tr style=\"text-align: right;\">\n",
              "      <th></th>\n",
              "      <th>REF_DATE</th>\n",
              "      <th>GEO</th>\n",
              "      <th>DGUID</th>\n",
              "      <th>Toronto Stock Exchange Statistics</th>\n",
              "      <th>UOM</th>\n",
              "      <th>UOM_ID</th>\n",
              "      <th>SCALAR_FACTOR</th>\n",
              "      <th>SCALAR_ID</th>\n",
              "      <th>VECTOR</th>\n",
              "      <th>COORDINATE</th>\n",
              "      <th>VALUE</th>\n",
              "      <th>STATUS</th>\n",
              "      <th>SYMBOL</th>\n",
              "      <th>TERMINATED</th>\n",
              "      <th>DECIMALS</th>\n",
              "    </tr>\n",
              "  </thead>\n",
              "  <tbody>\n",
              "    <tr>\n",
              "      <th>0</th>\n",
              "      <td>1956-01</td>\n",
              "      <td>Canada</td>\n",
              "      <td>2016A000011124</td>\n",
              "      <td>Standard and Poor's/Toronto Stock Exchange Com...</td>\n",
              "      <td>Index, 2000=1000</td>\n",
              "      <td>176</td>\n",
              "      <td>units</td>\n",
              "      <td>0</td>\n",
              "      <td>v122620</td>\n",
              "      <td>1.3</td>\n",
              "      <td>525.63</td>\n",
              "      <td>NaN</td>\n",
              "      <td>NaN</td>\n",
              "      <td>NaN</td>\n",
              "      <td>2</td>\n",
              "    </tr>\n",
              "    <tr>\n",
              "      <th>1</th>\n",
              "      <td>1956-01</td>\n",
              "      <td>Canada</td>\n",
              "      <td>2016A000011124</td>\n",
              "      <td>Toronto Stock Exchange, oil and gas, closing q...</td>\n",
              "      <td>Index, 2000=1000</td>\n",
              "      <td>176</td>\n",
              "      <td>units</td>\n",
              "      <td>0</td>\n",
              "      <td>v122621</td>\n",
              "      <td>1.4</td>\n",
              "      <td>485.02</td>\n",
              "      <td>NaN</td>\n",
              "      <td>NaN</td>\n",
              "      <td>t</td>\n",
              "      <td>2</td>\n",
              "    </tr>\n",
              "    <tr>\n",
              "      <th>2</th>\n",
              "      <td>1956-01</td>\n",
              "      <td>Canada</td>\n",
              "      <td>2016A000011124</td>\n",
              "      <td>Toronto Stock Exchange, metals and minerals, c...</td>\n",
              "      <td>Index, 2000=1000</td>\n",
              "      <td>176</td>\n",
              "      <td>units</td>\n",
              "      <td>0</td>\n",
              "      <td>v122622</td>\n",
              "      <td>1.5</td>\n",
              "      <td>729.73</td>\n",
              "      <td>NaN</td>\n",
              "      <td>NaN</td>\n",
              "      <td>t</td>\n",
              "      <td>2</td>\n",
              "    </tr>\n",
              "    <tr>\n",
              "      <th>3</th>\n",
              "      <td>1956-01</td>\n",
              "      <td>Canada</td>\n",
              "      <td>2016A000011124</td>\n",
              "      <td>Toronto Stock Exchange, utilities, closing quo...</td>\n",
              "      <td>Index, 2000=1000</td>\n",
              "      <td>176</td>\n",
              "      <td>units</td>\n",
              "      <td>0</td>\n",
              "      <td>v122623</td>\n",
              "      <td>1.6</td>\n",
              "      <td>914.11</td>\n",
              "      <td>NaN</td>\n",
              "      <td>NaN</td>\n",
              "      <td>t</td>\n",
              "      <td>2</td>\n",
              "    </tr>\n",
              "    <tr>\n",
              "      <th>4</th>\n",
              "      <td>1956-01</td>\n",
              "      <td>Canada</td>\n",
              "      <td>2016A000011124</td>\n",
              "      <td>Toronto Stock Exchange, paper and forest produ...</td>\n",
              "      <td>Index, 2000=1000</td>\n",
              "      <td>176</td>\n",
              "      <td>units</td>\n",
              "      <td>0</td>\n",
              "      <td>v122624</td>\n",
              "      <td>1.7</td>\n",
              "      <td>1013.23</td>\n",
              "      <td>NaN</td>\n",
              "      <td>NaN</td>\n",
              "      <td>t</td>\n",
              "      <td>2</td>\n",
              "    </tr>\n",
              "  </tbody>\n",
              "</table>\n",
              "</div>\n",
              "      <button class=\"colab-df-convert\" onclick=\"convertToInteractive('df-ad077fbc-b8b7-469b-9637-5742c08f4a38')\"\n",
              "              title=\"Convert this dataframe to an interactive table.\"\n",
              "              style=\"display:none;\">\n",
              "        \n",
              "  <svg xmlns=\"http://www.w3.org/2000/svg\" height=\"24px\"viewBox=\"0 0 24 24\"\n",
              "       width=\"24px\">\n",
              "    <path d=\"M0 0h24v24H0V0z\" fill=\"none\"/>\n",
              "    <path d=\"M18.56 5.44l.94 2.06.94-2.06 2.06-.94-2.06-.94-.94-2.06-.94 2.06-2.06.94zm-11 1L8.5 8.5l.94-2.06 2.06-.94-2.06-.94L8.5 2.5l-.94 2.06-2.06.94zm10 10l.94 2.06.94-2.06 2.06-.94-2.06-.94-.94-2.06-.94 2.06-2.06.94z\"/><path d=\"M17.41 7.96l-1.37-1.37c-.4-.4-.92-.59-1.43-.59-.52 0-1.04.2-1.43.59L10.3 9.45l-7.72 7.72c-.78.78-.78 2.05 0 2.83L4 21.41c.39.39.9.59 1.41.59.51 0 1.02-.2 1.41-.59l7.78-7.78 2.81-2.81c.8-.78.8-2.07 0-2.86zM5.41 20L4 18.59l7.72-7.72 1.47 1.35L5.41 20z\"/>\n",
              "  </svg>\n",
              "      </button>\n",
              "      \n",
              "  <style>\n",
              "    .colab-df-container {\n",
              "      display:flex;\n",
              "      flex-wrap:wrap;\n",
              "      gap: 12px;\n",
              "    }\n",
              "\n",
              "    .colab-df-convert {\n",
              "      background-color: #E8F0FE;\n",
              "      border: none;\n",
              "      border-radius: 50%;\n",
              "      cursor: pointer;\n",
              "      display: none;\n",
              "      fill: #1967D2;\n",
              "      height: 32px;\n",
              "      padding: 0 0 0 0;\n",
              "      width: 32px;\n",
              "    }\n",
              "\n",
              "    .colab-df-convert:hover {\n",
              "      background-color: #E2EBFA;\n",
              "      box-shadow: 0px 1px 2px rgba(60, 64, 67, 0.3), 0px 1px 3px 1px rgba(60, 64, 67, 0.15);\n",
              "      fill: #174EA6;\n",
              "    }\n",
              "\n",
              "    [theme=dark] .colab-df-convert {\n",
              "      background-color: #3B4455;\n",
              "      fill: #D2E3FC;\n",
              "    }\n",
              "\n",
              "    [theme=dark] .colab-df-convert:hover {\n",
              "      background-color: #434B5C;\n",
              "      box-shadow: 0px 1px 3px 1px rgba(0, 0, 0, 0.15);\n",
              "      filter: drop-shadow(0px 1px 2px rgba(0, 0, 0, 0.3));\n",
              "      fill: #FFFFFF;\n",
              "    }\n",
              "  </style>\n",
              "\n",
              "      <script>\n",
              "        const buttonEl =\n",
              "          document.querySelector('#df-ad077fbc-b8b7-469b-9637-5742c08f4a38 button.colab-df-convert');\n",
              "        buttonEl.style.display =\n",
              "          google.colab.kernel.accessAllowed ? 'block' : 'none';\n",
              "\n",
              "        async function convertToInteractive(key) {\n",
              "          const element = document.querySelector('#df-ad077fbc-b8b7-469b-9637-5742c08f4a38');\n",
              "          const dataTable =\n",
              "            await google.colab.kernel.invokeFunction('convertToInteractive',\n",
              "                                                     [key], {});\n",
              "          if (!dataTable) return;\n",
              "\n",
              "          const docLinkHtml = 'Like what you see? Visit the ' +\n",
              "            '<a target=\"_blank\" href=https://colab.research.google.com/notebooks/data_table.ipynb>data table notebook</a>'\n",
              "            + ' to learn more about interactive tables.';\n",
              "          element.innerHTML = '';\n",
              "          dataTable['output_type'] = 'display_data';\n",
              "          await google.colab.output.renderOutput(dataTable, element);\n",
              "          const docLink = document.createElement('div');\n",
              "          docLink.innerHTML = docLinkHtml;\n",
              "          element.appendChild(docLink);\n",
              "        }\n",
              "      </script>\n",
              "    </div>\n",
              "  </div>\n",
              "  "
            ],
            "text/plain": [
              "  REF_DATE     GEO           DGUID  ... SYMBOL TERMINATED  DECIMALS\n",
              "0  1956-01  Canada  2016A000011124  ...    NaN        NaN         2\n",
              "1  1956-01  Canada  2016A000011124  ...    NaN          t         2\n",
              "2  1956-01  Canada  2016A000011124  ...    NaN          t         2\n",
              "3  1956-01  Canada  2016A000011124  ...    NaN          t         2\n",
              "4  1956-01  Canada  2016A000011124  ...    NaN          t         2\n",
              "\n",
              "[5 rows x 15 columns]"
            ]
          },
          "metadata": {},
          "execution_count": 3
        }
      ]
    },
    {
      "cell_type": "code",
      "source": [
        "df = df.loc[df['Toronto Stock Exchange Statistics'] == 'Standard and Poor\\'s/Toronto Stock Exchange Composite Index, close']"
      ],
      "metadata": {
        "id": "JeGKGtqj7c3z"
      },
      "execution_count": 4,
      "outputs": []
    },
    {
      "cell_type": "code",
      "source": [
        "df.head()"
      ],
      "metadata": {
        "colab": {
          "base_uri": "https://localhost:8080/",
          "height": 669
        },
        "id": "iUFvBs4E8Rd7",
        "outputId": "bc3fa5a2-35c7-433d-f00c-b59f61bdee73"
      },
      "execution_count": 5,
      "outputs": [
        {
          "output_type": "execute_result",
          "data": {
            "text/html": [
              "\n",
              "  <div id=\"df-c9f7dd17-fc62-45e0-b9cc-5a105e26f041\">\n",
              "    <div class=\"colab-df-container\">\n",
              "      <div>\n",
              "<style scoped>\n",
              "    .dataframe tbody tr th:only-of-type {\n",
              "        vertical-align: middle;\n",
              "    }\n",
              "\n",
              "    .dataframe tbody tr th {\n",
              "        vertical-align: top;\n",
              "    }\n",
              "\n",
              "    .dataframe thead th {\n",
              "        text-align: right;\n",
              "    }\n",
              "</style>\n",
              "<table border=\"1\" class=\"dataframe\">\n",
              "  <thead>\n",
              "    <tr style=\"text-align: right;\">\n",
              "      <th></th>\n",
              "      <th>REF_DATE</th>\n",
              "      <th>GEO</th>\n",
              "      <th>DGUID</th>\n",
              "      <th>Toronto Stock Exchange Statistics</th>\n",
              "      <th>UOM</th>\n",
              "      <th>UOM_ID</th>\n",
              "      <th>SCALAR_FACTOR</th>\n",
              "      <th>SCALAR_ID</th>\n",
              "      <th>VECTOR</th>\n",
              "      <th>COORDINATE</th>\n",
              "      <th>VALUE</th>\n",
              "      <th>STATUS</th>\n",
              "      <th>SYMBOL</th>\n",
              "      <th>TERMINATED</th>\n",
              "      <th>DECIMALS</th>\n",
              "    </tr>\n",
              "  </thead>\n",
              "  <tbody>\n",
              "    <tr>\n",
              "      <th>0</th>\n",
              "      <td>1956-01</td>\n",
              "      <td>Canada</td>\n",
              "      <td>2016A000011124</td>\n",
              "      <td>Standard and Poor's/Toronto Stock Exchange Com...</td>\n",
              "      <td>Index, 2000=1000</td>\n",
              "      <td>176</td>\n",
              "      <td>units</td>\n",
              "      <td>0</td>\n",
              "      <td>v122620</td>\n",
              "      <td>1.3</td>\n",
              "      <td>525.63</td>\n",
              "      <td>NaN</td>\n",
              "      <td>NaN</td>\n",
              "      <td>NaN</td>\n",
              "      <td>2</td>\n",
              "    </tr>\n",
              "    <tr>\n",
              "      <th>10</th>\n",
              "      <td>1956-02</td>\n",
              "      <td>Canada</td>\n",
              "      <td>2016A000011124</td>\n",
              "      <td>Standard and Poor's/Toronto Stock Exchange Com...</td>\n",
              "      <td>Index, 2000=1000</td>\n",
              "      <td>176</td>\n",
              "      <td>units</td>\n",
              "      <td>0</td>\n",
              "      <td>v122620</td>\n",
              "      <td>1.3</td>\n",
              "      <td>545.15</td>\n",
              "      <td>NaN</td>\n",
              "      <td>NaN</td>\n",
              "      <td>NaN</td>\n",
              "      <td>2</td>\n",
              "    </tr>\n",
              "    <tr>\n",
              "      <th>20</th>\n",
              "      <td>1956-03</td>\n",
              "      <td>Canada</td>\n",
              "      <td>2016A000011124</td>\n",
              "      <td>Standard and Poor's/Toronto Stock Exchange Com...</td>\n",
              "      <td>Index, 2000=1000</td>\n",
              "      <td>176</td>\n",
              "      <td>units</td>\n",
              "      <td>0</td>\n",
              "      <td>v122620</td>\n",
              "      <td>1.3</td>\n",
              "      <td>588.91</td>\n",
              "      <td>NaN</td>\n",
              "      <td>NaN</td>\n",
              "      <td>NaN</td>\n",
              "      <td>2</td>\n",
              "    </tr>\n",
              "    <tr>\n",
              "      <th>30</th>\n",
              "      <td>1956-04</td>\n",
              "      <td>Canada</td>\n",
              "      <td>2016A000011124</td>\n",
              "      <td>Standard and Poor's/Toronto Stock Exchange Com...</td>\n",
              "      <td>Index, 2000=1000</td>\n",
              "      <td>176</td>\n",
              "      <td>units</td>\n",
              "      <td>0</td>\n",
              "      <td>v122620</td>\n",
              "      <td>1.3</td>\n",
              "      <td>583.61</td>\n",
              "      <td>NaN</td>\n",
              "      <td>NaN</td>\n",
              "      <td>NaN</td>\n",
              "      <td>2</td>\n",
              "    </tr>\n",
              "    <tr>\n",
              "      <th>40</th>\n",
              "      <td>1956-05</td>\n",
              "      <td>Canada</td>\n",
              "      <td>2016A000011124</td>\n",
              "      <td>Standard and Poor's/Toronto Stock Exchange Com...</td>\n",
              "      <td>Index, 2000=1000</td>\n",
              "      <td>176</td>\n",
              "      <td>units</td>\n",
              "      <td>0</td>\n",
              "      <td>v122620</td>\n",
              "      <td>1.3</td>\n",
              "      <td>560.09</td>\n",
              "      <td>NaN</td>\n",
              "      <td>NaN</td>\n",
              "      <td>NaN</td>\n",
              "      <td>2</td>\n",
              "    </tr>\n",
              "  </tbody>\n",
              "</table>\n",
              "</div>\n",
              "      <button class=\"colab-df-convert\" onclick=\"convertToInteractive('df-c9f7dd17-fc62-45e0-b9cc-5a105e26f041')\"\n",
              "              title=\"Convert this dataframe to an interactive table.\"\n",
              "              style=\"display:none;\">\n",
              "        \n",
              "  <svg xmlns=\"http://www.w3.org/2000/svg\" height=\"24px\"viewBox=\"0 0 24 24\"\n",
              "       width=\"24px\">\n",
              "    <path d=\"M0 0h24v24H0V0z\" fill=\"none\"/>\n",
              "    <path d=\"M18.56 5.44l.94 2.06.94-2.06 2.06-.94-2.06-.94-.94-2.06-.94 2.06-2.06.94zm-11 1L8.5 8.5l.94-2.06 2.06-.94-2.06-.94L8.5 2.5l-.94 2.06-2.06.94zm10 10l.94 2.06.94-2.06 2.06-.94-2.06-.94-.94-2.06-.94 2.06-2.06.94z\"/><path d=\"M17.41 7.96l-1.37-1.37c-.4-.4-.92-.59-1.43-.59-.52 0-1.04.2-1.43.59L10.3 9.45l-7.72 7.72c-.78.78-.78 2.05 0 2.83L4 21.41c.39.39.9.59 1.41.59.51 0 1.02-.2 1.41-.59l7.78-7.78 2.81-2.81c.8-.78.8-2.07 0-2.86zM5.41 20L4 18.59l7.72-7.72 1.47 1.35L5.41 20z\"/>\n",
              "  </svg>\n",
              "      </button>\n",
              "      \n",
              "  <style>\n",
              "    .colab-df-container {\n",
              "      display:flex;\n",
              "      flex-wrap:wrap;\n",
              "      gap: 12px;\n",
              "    }\n",
              "\n",
              "    .colab-df-convert {\n",
              "      background-color: #E8F0FE;\n",
              "      border: none;\n",
              "      border-radius: 50%;\n",
              "      cursor: pointer;\n",
              "      display: none;\n",
              "      fill: #1967D2;\n",
              "      height: 32px;\n",
              "      padding: 0 0 0 0;\n",
              "      width: 32px;\n",
              "    }\n",
              "\n",
              "    .colab-df-convert:hover {\n",
              "      background-color: #E2EBFA;\n",
              "      box-shadow: 0px 1px 2px rgba(60, 64, 67, 0.3), 0px 1px 3px 1px rgba(60, 64, 67, 0.15);\n",
              "      fill: #174EA6;\n",
              "    }\n",
              "\n",
              "    [theme=dark] .colab-df-convert {\n",
              "      background-color: #3B4455;\n",
              "      fill: #D2E3FC;\n",
              "    }\n",
              "\n",
              "    [theme=dark] .colab-df-convert:hover {\n",
              "      background-color: #434B5C;\n",
              "      box-shadow: 0px 1px 3px 1px rgba(0, 0, 0, 0.15);\n",
              "      filter: drop-shadow(0px 1px 2px rgba(0, 0, 0, 0.3));\n",
              "      fill: #FFFFFF;\n",
              "    }\n",
              "  </style>\n",
              "\n",
              "      <script>\n",
              "        const buttonEl =\n",
              "          document.querySelector('#df-c9f7dd17-fc62-45e0-b9cc-5a105e26f041 button.colab-df-convert');\n",
              "        buttonEl.style.display =\n",
              "          google.colab.kernel.accessAllowed ? 'block' : 'none';\n",
              "\n",
              "        async function convertToInteractive(key) {\n",
              "          const element = document.querySelector('#df-c9f7dd17-fc62-45e0-b9cc-5a105e26f041');\n",
              "          const dataTable =\n",
              "            await google.colab.kernel.invokeFunction('convertToInteractive',\n",
              "                                                     [key], {});\n",
              "          if (!dataTable) return;\n",
              "\n",
              "          const docLinkHtml = 'Like what you see? Visit the ' +\n",
              "            '<a target=\"_blank\" href=https://colab.research.google.com/notebooks/data_table.ipynb>data table notebook</a>'\n",
              "            + ' to learn more about interactive tables.';\n",
              "          element.innerHTML = '';\n",
              "          dataTable['output_type'] = 'display_data';\n",
              "          await google.colab.output.renderOutput(dataTable, element);\n",
              "          const docLink = document.createElement('div');\n",
              "          docLink.innerHTML = docLinkHtml;\n",
              "          element.appendChild(docLink);\n",
              "        }\n",
              "      </script>\n",
              "    </div>\n",
              "  </div>\n",
              "  "
            ],
            "text/plain": [
              "   REF_DATE     GEO           DGUID  ... SYMBOL TERMINATED  DECIMALS\n",
              "0   1956-01  Canada  2016A000011124  ...    NaN        NaN         2\n",
              "10  1956-02  Canada  2016A000011124  ...    NaN        NaN         2\n",
              "20  1956-03  Canada  2016A000011124  ...    NaN        NaN         2\n",
              "30  1956-04  Canada  2016A000011124  ...    NaN        NaN         2\n",
              "40  1956-05  Canada  2016A000011124  ...    NaN        NaN         2\n",
              "\n",
              "[5 rows x 15 columns]"
            ]
          },
          "metadata": {},
          "execution_count": 5
        }
      ]
    },
    {
      "cell_type": "code",
      "source": [
        "df = df[['REF_DATE', 'VALUE']]"
      ],
      "metadata": {
        "id": "pFe3kjz38TAF"
      },
      "execution_count": 6,
      "outputs": []
    },
    {
      "cell_type": "code",
      "source": [
        "df.head()"
      ],
      "metadata": {
        "colab": {
          "base_uri": "https://localhost:8080/",
          "height": 206
        },
        "id": "sAeTrvUa8eq-",
        "outputId": "2f685ec3-2b5a-460d-ee16-dff2f1d14bdc"
      },
      "execution_count": 7,
      "outputs": [
        {
          "output_type": "execute_result",
          "data": {
            "text/html": [
              "\n",
              "  <div id=\"df-90a054ec-0461-4013-bf30-06c3dd1c8702\">\n",
              "    <div class=\"colab-df-container\">\n",
              "      <div>\n",
              "<style scoped>\n",
              "    .dataframe tbody tr th:only-of-type {\n",
              "        vertical-align: middle;\n",
              "    }\n",
              "\n",
              "    .dataframe tbody tr th {\n",
              "        vertical-align: top;\n",
              "    }\n",
              "\n",
              "    .dataframe thead th {\n",
              "        text-align: right;\n",
              "    }\n",
              "</style>\n",
              "<table border=\"1\" class=\"dataframe\">\n",
              "  <thead>\n",
              "    <tr style=\"text-align: right;\">\n",
              "      <th></th>\n",
              "      <th>REF_DATE</th>\n",
              "      <th>VALUE</th>\n",
              "    </tr>\n",
              "  </thead>\n",
              "  <tbody>\n",
              "    <tr>\n",
              "      <th>0</th>\n",
              "      <td>1956-01</td>\n",
              "      <td>525.63</td>\n",
              "    </tr>\n",
              "    <tr>\n",
              "      <th>10</th>\n",
              "      <td>1956-02</td>\n",
              "      <td>545.15</td>\n",
              "    </tr>\n",
              "    <tr>\n",
              "      <th>20</th>\n",
              "      <td>1956-03</td>\n",
              "      <td>588.91</td>\n",
              "    </tr>\n",
              "    <tr>\n",
              "      <th>30</th>\n",
              "      <td>1956-04</td>\n",
              "      <td>583.61</td>\n",
              "    </tr>\n",
              "    <tr>\n",
              "      <th>40</th>\n",
              "      <td>1956-05</td>\n",
              "      <td>560.09</td>\n",
              "    </tr>\n",
              "  </tbody>\n",
              "</table>\n",
              "</div>\n",
              "      <button class=\"colab-df-convert\" onclick=\"convertToInteractive('df-90a054ec-0461-4013-bf30-06c3dd1c8702')\"\n",
              "              title=\"Convert this dataframe to an interactive table.\"\n",
              "              style=\"display:none;\">\n",
              "        \n",
              "  <svg xmlns=\"http://www.w3.org/2000/svg\" height=\"24px\"viewBox=\"0 0 24 24\"\n",
              "       width=\"24px\">\n",
              "    <path d=\"M0 0h24v24H0V0z\" fill=\"none\"/>\n",
              "    <path d=\"M18.56 5.44l.94 2.06.94-2.06 2.06-.94-2.06-.94-.94-2.06-.94 2.06-2.06.94zm-11 1L8.5 8.5l.94-2.06 2.06-.94-2.06-.94L8.5 2.5l-.94 2.06-2.06.94zm10 10l.94 2.06.94-2.06 2.06-.94-2.06-.94-.94-2.06-.94 2.06-2.06.94z\"/><path d=\"M17.41 7.96l-1.37-1.37c-.4-.4-.92-.59-1.43-.59-.52 0-1.04.2-1.43.59L10.3 9.45l-7.72 7.72c-.78.78-.78 2.05 0 2.83L4 21.41c.39.39.9.59 1.41.59.51 0 1.02-.2 1.41-.59l7.78-7.78 2.81-2.81c.8-.78.8-2.07 0-2.86zM5.41 20L4 18.59l7.72-7.72 1.47 1.35L5.41 20z\"/>\n",
              "  </svg>\n",
              "      </button>\n",
              "      \n",
              "  <style>\n",
              "    .colab-df-container {\n",
              "      display:flex;\n",
              "      flex-wrap:wrap;\n",
              "      gap: 12px;\n",
              "    }\n",
              "\n",
              "    .colab-df-convert {\n",
              "      background-color: #E8F0FE;\n",
              "      border: none;\n",
              "      border-radius: 50%;\n",
              "      cursor: pointer;\n",
              "      display: none;\n",
              "      fill: #1967D2;\n",
              "      height: 32px;\n",
              "      padding: 0 0 0 0;\n",
              "      width: 32px;\n",
              "    }\n",
              "\n",
              "    .colab-df-convert:hover {\n",
              "      background-color: #E2EBFA;\n",
              "      box-shadow: 0px 1px 2px rgba(60, 64, 67, 0.3), 0px 1px 3px 1px rgba(60, 64, 67, 0.15);\n",
              "      fill: #174EA6;\n",
              "    }\n",
              "\n",
              "    [theme=dark] .colab-df-convert {\n",
              "      background-color: #3B4455;\n",
              "      fill: #D2E3FC;\n",
              "    }\n",
              "\n",
              "    [theme=dark] .colab-df-convert:hover {\n",
              "      background-color: #434B5C;\n",
              "      box-shadow: 0px 1px 3px 1px rgba(0, 0, 0, 0.15);\n",
              "      filter: drop-shadow(0px 1px 2px rgba(0, 0, 0, 0.3));\n",
              "      fill: #FFFFFF;\n",
              "    }\n",
              "  </style>\n",
              "\n",
              "      <script>\n",
              "        const buttonEl =\n",
              "          document.querySelector('#df-90a054ec-0461-4013-bf30-06c3dd1c8702 button.colab-df-convert');\n",
              "        buttonEl.style.display =\n",
              "          google.colab.kernel.accessAllowed ? 'block' : 'none';\n",
              "\n",
              "        async function convertToInteractive(key) {\n",
              "          const element = document.querySelector('#df-90a054ec-0461-4013-bf30-06c3dd1c8702');\n",
              "          const dataTable =\n",
              "            await google.colab.kernel.invokeFunction('convertToInteractive',\n",
              "                                                     [key], {});\n",
              "          if (!dataTable) return;\n",
              "\n",
              "          const docLinkHtml = 'Like what you see? Visit the ' +\n",
              "            '<a target=\"_blank\" href=https://colab.research.google.com/notebooks/data_table.ipynb>data table notebook</a>'\n",
              "            + ' to learn more about interactive tables.';\n",
              "          element.innerHTML = '';\n",
              "          dataTable['output_type'] = 'display_data';\n",
              "          await google.colab.output.renderOutput(dataTable, element);\n",
              "          const docLink = document.createElement('div');\n",
              "          docLink.innerHTML = docLinkHtml;\n",
              "          element.appendChild(docLink);\n",
              "        }\n",
              "      </script>\n",
              "    </div>\n",
              "  </div>\n",
              "  "
            ],
            "text/plain": [
              "   REF_DATE   VALUE\n",
              "0   1956-01  525.63\n",
              "10  1956-02  545.15\n",
              "20  1956-03  588.91\n",
              "30  1956-04  583.61\n",
              "40  1956-05  560.09"
            ]
          },
          "metadata": {},
          "execution_count": 7
        }
      ]
    },
    {
      "cell_type": "code",
      "source": [
        "Y = df['VALUE']\n",
        "date = df['REF_DATE']\n",
        "date = np.array(date,dtype=np.datetime64)\n",
        "Series = pd.DataFrame(Y)\n",
        "Series = Series.set_index(date)\n",
        "Series.head()"
      ],
      "metadata": {
        "colab": {
          "base_uri": "https://localhost:8080/",
          "height": 206
        },
        "id": "bfR0UNxK87-d",
        "outputId": "eff81ee2-f095-41f1-87f9-d13396067a29"
      },
      "execution_count": 9,
      "outputs": [
        {
          "output_type": "execute_result",
          "data": {
            "text/html": [
              "\n",
              "  <div id=\"df-c4239a23-7398-4042-beb7-778670e8f470\">\n",
              "    <div class=\"colab-df-container\">\n",
              "      <div>\n",
              "<style scoped>\n",
              "    .dataframe tbody tr th:only-of-type {\n",
              "        vertical-align: middle;\n",
              "    }\n",
              "\n",
              "    .dataframe tbody tr th {\n",
              "        vertical-align: top;\n",
              "    }\n",
              "\n",
              "    .dataframe thead th {\n",
              "        text-align: right;\n",
              "    }\n",
              "</style>\n",
              "<table border=\"1\" class=\"dataframe\">\n",
              "  <thead>\n",
              "    <tr style=\"text-align: right;\">\n",
              "      <th></th>\n",
              "      <th>VALUE</th>\n",
              "    </tr>\n",
              "  </thead>\n",
              "  <tbody>\n",
              "    <tr>\n",
              "      <th>1956-01-01</th>\n",
              "      <td>525.63</td>\n",
              "    </tr>\n",
              "    <tr>\n",
              "      <th>1956-02-01</th>\n",
              "      <td>545.15</td>\n",
              "    </tr>\n",
              "    <tr>\n",
              "      <th>1956-03-01</th>\n",
              "      <td>588.91</td>\n",
              "    </tr>\n",
              "    <tr>\n",
              "      <th>1956-04-01</th>\n",
              "      <td>583.61</td>\n",
              "    </tr>\n",
              "    <tr>\n",
              "      <th>1956-05-01</th>\n",
              "      <td>560.09</td>\n",
              "    </tr>\n",
              "  </tbody>\n",
              "</table>\n",
              "</div>\n",
              "      <button class=\"colab-df-convert\" onclick=\"convertToInteractive('df-c4239a23-7398-4042-beb7-778670e8f470')\"\n",
              "              title=\"Convert this dataframe to an interactive table.\"\n",
              "              style=\"display:none;\">\n",
              "        \n",
              "  <svg xmlns=\"http://www.w3.org/2000/svg\" height=\"24px\"viewBox=\"0 0 24 24\"\n",
              "       width=\"24px\">\n",
              "    <path d=\"M0 0h24v24H0V0z\" fill=\"none\"/>\n",
              "    <path d=\"M18.56 5.44l.94 2.06.94-2.06 2.06-.94-2.06-.94-.94-2.06-.94 2.06-2.06.94zm-11 1L8.5 8.5l.94-2.06 2.06-.94-2.06-.94L8.5 2.5l-.94 2.06-2.06.94zm10 10l.94 2.06.94-2.06 2.06-.94-2.06-.94-.94-2.06-.94 2.06-2.06.94z\"/><path d=\"M17.41 7.96l-1.37-1.37c-.4-.4-.92-.59-1.43-.59-.52 0-1.04.2-1.43.59L10.3 9.45l-7.72 7.72c-.78.78-.78 2.05 0 2.83L4 21.41c.39.39.9.59 1.41.59.51 0 1.02-.2 1.41-.59l7.78-7.78 2.81-2.81c.8-.78.8-2.07 0-2.86zM5.41 20L4 18.59l7.72-7.72 1.47 1.35L5.41 20z\"/>\n",
              "  </svg>\n",
              "      </button>\n",
              "      \n",
              "  <style>\n",
              "    .colab-df-container {\n",
              "      display:flex;\n",
              "      flex-wrap:wrap;\n",
              "      gap: 12px;\n",
              "    }\n",
              "\n",
              "    .colab-df-convert {\n",
              "      background-color: #E8F0FE;\n",
              "      border: none;\n",
              "      border-radius: 50%;\n",
              "      cursor: pointer;\n",
              "      display: none;\n",
              "      fill: #1967D2;\n",
              "      height: 32px;\n",
              "      padding: 0 0 0 0;\n",
              "      width: 32px;\n",
              "    }\n",
              "\n",
              "    .colab-df-convert:hover {\n",
              "      background-color: #E2EBFA;\n",
              "      box-shadow: 0px 1px 2px rgba(60, 64, 67, 0.3), 0px 1px 3px 1px rgba(60, 64, 67, 0.15);\n",
              "      fill: #174EA6;\n",
              "    }\n",
              "\n",
              "    [theme=dark] .colab-df-convert {\n",
              "      background-color: #3B4455;\n",
              "      fill: #D2E3FC;\n",
              "    }\n",
              "\n",
              "    [theme=dark] .colab-df-convert:hover {\n",
              "      background-color: #434B5C;\n",
              "      box-shadow: 0px 1px 3px 1px rgba(0, 0, 0, 0.15);\n",
              "      filter: drop-shadow(0px 1px 2px rgba(0, 0, 0, 0.3));\n",
              "      fill: #FFFFFF;\n",
              "    }\n",
              "  </style>\n",
              "\n",
              "      <script>\n",
              "        const buttonEl =\n",
              "          document.querySelector('#df-c4239a23-7398-4042-beb7-778670e8f470 button.colab-df-convert');\n",
              "        buttonEl.style.display =\n",
              "          google.colab.kernel.accessAllowed ? 'block' : 'none';\n",
              "\n",
              "        async function convertToInteractive(key) {\n",
              "          const element = document.querySelector('#df-c4239a23-7398-4042-beb7-778670e8f470');\n",
              "          const dataTable =\n",
              "            await google.colab.kernel.invokeFunction('convertToInteractive',\n",
              "                                                     [key], {});\n",
              "          if (!dataTable) return;\n",
              "\n",
              "          const docLinkHtml = 'Like what you see? Visit the ' +\n",
              "            '<a target=\"_blank\" href=https://colab.research.google.com/notebooks/data_table.ipynb>data table notebook</a>'\n",
              "            + ' to learn more about interactive tables.';\n",
              "          element.innerHTML = '';\n",
              "          dataTable['output_type'] = 'display_data';\n",
              "          await google.colab.output.renderOutput(dataTable, element);\n",
              "          const docLink = document.createElement('div');\n",
              "          docLink.innerHTML = docLinkHtml;\n",
              "          element.appendChild(docLink);\n",
              "        }\n",
              "      </script>\n",
              "    </div>\n",
              "  </div>\n",
              "  "
            ],
            "text/plain": [
              "             VALUE\n",
              "1956-01-01  525.63\n",
              "1956-02-01  545.15\n",
              "1956-03-01  588.91\n",
              "1956-04-01  583.61\n",
              "1956-05-01  560.09"
            ]
          },
          "metadata": {},
          "execution_count": 9
        }
      ]
    },
    {
      "cell_type": "code",
      "source": [
        "df['year']= pd.DatetimeIndex(df['REF_DATE']).year"
      ],
      "metadata": {
        "id": "jEQMcITT9T03"
      },
      "execution_count": 10,
      "outputs": []
    },
    {
      "cell_type": "code",
      "source": [
        "df.head()"
      ],
      "metadata": {
        "colab": {
          "base_uri": "https://localhost:8080/",
          "height": 206
        },
        "id": "Ho9H2tI9-Psl",
        "outputId": "0f2c3886-4eb2-40bd-8ae8-f04704312222"
      },
      "execution_count": 11,
      "outputs": [
        {
          "output_type": "execute_result",
          "data": {
            "text/html": [
              "\n",
              "  <div id=\"df-24aec777-a924-42b6-8c8d-343f9263736f\">\n",
              "    <div class=\"colab-df-container\">\n",
              "      <div>\n",
              "<style scoped>\n",
              "    .dataframe tbody tr th:only-of-type {\n",
              "        vertical-align: middle;\n",
              "    }\n",
              "\n",
              "    .dataframe tbody tr th {\n",
              "        vertical-align: top;\n",
              "    }\n",
              "\n",
              "    .dataframe thead th {\n",
              "        text-align: right;\n",
              "    }\n",
              "</style>\n",
              "<table border=\"1\" class=\"dataframe\">\n",
              "  <thead>\n",
              "    <tr style=\"text-align: right;\">\n",
              "      <th></th>\n",
              "      <th>REF_DATE</th>\n",
              "      <th>VALUE</th>\n",
              "      <th>year</th>\n",
              "    </tr>\n",
              "  </thead>\n",
              "  <tbody>\n",
              "    <tr>\n",
              "      <th>0</th>\n",
              "      <td>1956-01</td>\n",
              "      <td>525.63</td>\n",
              "      <td>1956</td>\n",
              "    </tr>\n",
              "    <tr>\n",
              "      <th>10</th>\n",
              "      <td>1956-02</td>\n",
              "      <td>545.15</td>\n",
              "      <td>1956</td>\n",
              "    </tr>\n",
              "    <tr>\n",
              "      <th>20</th>\n",
              "      <td>1956-03</td>\n",
              "      <td>588.91</td>\n",
              "      <td>1956</td>\n",
              "    </tr>\n",
              "    <tr>\n",
              "      <th>30</th>\n",
              "      <td>1956-04</td>\n",
              "      <td>583.61</td>\n",
              "      <td>1956</td>\n",
              "    </tr>\n",
              "    <tr>\n",
              "      <th>40</th>\n",
              "      <td>1956-05</td>\n",
              "      <td>560.09</td>\n",
              "      <td>1956</td>\n",
              "    </tr>\n",
              "  </tbody>\n",
              "</table>\n",
              "</div>\n",
              "      <button class=\"colab-df-convert\" onclick=\"convertToInteractive('df-24aec777-a924-42b6-8c8d-343f9263736f')\"\n",
              "              title=\"Convert this dataframe to an interactive table.\"\n",
              "              style=\"display:none;\">\n",
              "        \n",
              "  <svg xmlns=\"http://www.w3.org/2000/svg\" height=\"24px\"viewBox=\"0 0 24 24\"\n",
              "       width=\"24px\">\n",
              "    <path d=\"M0 0h24v24H0V0z\" fill=\"none\"/>\n",
              "    <path d=\"M18.56 5.44l.94 2.06.94-2.06 2.06-.94-2.06-.94-.94-2.06-.94 2.06-2.06.94zm-11 1L8.5 8.5l.94-2.06 2.06-.94-2.06-.94L8.5 2.5l-.94 2.06-2.06.94zm10 10l.94 2.06.94-2.06 2.06-.94-2.06-.94-.94-2.06-.94 2.06-2.06.94z\"/><path d=\"M17.41 7.96l-1.37-1.37c-.4-.4-.92-.59-1.43-.59-.52 0-1.04.2-1.43.59L10.3 9.45l-7.72 7.72c-.78.78-.78 2.05 0 2.83L4 21.41c.39.39.9.59 1.41.59.51 0 1.02-.2 1.41-.59l7.78-7.78 2.81-2.81c.8-.78.8-2.07 0-2.86zM5.41 20L4 18.59l7.72-7.72 1.47 1.35L5.41 20z\"/>\n",
              "  </svg>\n",
              "      </button>\n",
              "      \n",
              "  <style>\n",
              "    .colab-df-container {\n",
              "      display:flex;\n",
              "      flex-wrap:wrap;\n",
              "      gap: 12px;\n",
              "    }\n",
              "\n",
              "    .colab-df-convert {\n",
              "      background-color: #E8F0FE;\n",
              "      border: none;\n",
              "      border-radius: 50%;\n",
              "      cursor: pointer;\n",
              "      display: none;\n",
              "      fill: #1967D2;\n",
              "      height: 32px;\n",
              "      padding: 0 0 0 0;\n",
              "      width: 32px;\n",
              "    }\n",
              "\n",
              "    .colab-df-convert:hover {\n",
              "      background-color: #E2EBFA;\n",
              "      box-shadow: 0px 1px 2px rgba(60, 64, 67, 0.3), 0px 1px 3px 1px rgba(60, 64, 67, 0.15);\n",
              "      fill: #174EA6;\n",
              "    }\n",
              "\n",
              "    [theme=dark] .colab-df-convert {\n",
              "      background-color: #3B4455;\n",
              "      fill: #D2E3FC;\n",
              "    }\n",
              "\n",
              "    [theme=dark] .colab-df-convert:hover {\n",
              "      background-color: #434B5C;\n",
              "      box-shadow: 0px 1px 3px 1px rgba(0, 0, 0, 0.15);\n",
              "      filter: drop-shadow(0px 1px 2px rgba(0, 0, 0, 0.3));\n",
              "      fill: #FFFFFF;\n",
              "    }\n",
              "  </style>\n",
              "\n",
              "      <script>\n",
              "        const buttonEl =\n",
              "          document.querySelector('#df-24aec777-a924-42b6-8c8d-343f9263736f button.colab-df-convert');\n",
              "        buttonEl.style.display =\n",
              "          google.colab.kernel.accessAllowed ? 'block' : 'none';\n",
              "\n",
              "        async function convertToInteractive(key) {\n",
              "          const element = document.querySelector('#df-24aec777-a924-42b6-8c8d-343f9263736f');\n",
              "          const dataTable =\n",
              "            await google.colab.kernel.invokeFunction('convertToInteractive',\n",
              "                                                     [key], {});\n",
              "          if (!dataTable) return;\n",
              "\n",
              "          const docLinkHtml = 'Like what you see? Visit the ' +\n",
              "            '<a target=\"_blank\" href=https://colab.research.google.com/notebooks/data_table.ipynb>data table notebook</a>'\n",
              "            + ' to learn more about interactive tables.';\n",
              "          element.innerHTML = '';\n",
              "          dataTable['output_type'] = 'display_data';\n",
              "          await google.colab.output.renderOutput(dataTable, element);\n",
              "          const docLink = document.createElement('div');\n",
              "          docLink.innerHTML = docLinkHtml;\n",
              "          element.appendChild(docLink);\n",
              "        }\n",
              "      </script>\n",
              "    </div>\n",
              "  </div>\n",
              "  "
            ],
            "text/plain": [
              "   REF_DATE   VALUE  year\n",
              "0   1956-01  525.63  1956\n",
              "10  1956-02  545.15  1956\n",
              "20  1956-03  588.91  1956\n",
              "30  1956-04  583.61  1956\n",
              "40  1956-05  560.09  1956"
            ]
          },
          "metadata": {},
          "execution_count": 11
        }
      ]
    },
    {
      "cell_type": "code",
      "source": [
        "df.drop(['REF_DATE'], axis = 1)"
      ],
      "metadata": {
        "colab": {
          "base_uri": "https://localhost:8080/",
          "height": 424
        },
        "id": "8GZwaAtg_dVI",
        "outputId": "345b0d4a-a325-467a-fddb-ba41fd834cbf"
      },
      "execution_count": 12,
      "outputs": [
        {
          "output_type": "execute_result",
          "data": {
            "text/html": [
              "\n",
              "  <div id=\"df-8287ea25-52cc-4883-a952-2b2f26ad47f1\">\n",
              "    <div class=\"colab-df-container\">\n",
              "      <div>\n",
              "<style scoped>\n",
              "    .dataframe tbody tr th:only-of-type {\n",
              "        vertical-align: middle;\n",
              "    }\n",
              "\n",
              "    .dataframe tbody tr th {\n",
              "        vertical-align: top;\n",
              "    }\n",
              "\n",
              "    .dataframe thead th {\n",
              "        text-align: right;\n",
              "    }\n",
              "</style>\n",
              "<table border=\"1\" class=\"dataframe\">\n",
              "  <thead>\n",
              "    <tr style=\"text-align: right;\">\n",
              "      <th></th>\n",
              "      <th>VALUE</th>\n",
              "      <th>year</th>\n",
              "    </tr>\n",
              "  </thead>\n",
              "  <tbody>\n",
              "    <tr>\n",
              "      <th>0</th>\n",
              "      <td>525.63</td>\n",
              "      <td>1956</td>\n",
              "    </tr>\n",
              "    <tr>\n",
              "      <th>10</th>\n",
              "      <td>545.15</td>\n",
              "      <td>1956</td>\n",
              "    </tr>\n",
              "    <tr>\n",
              "      <th>20</th>\n",
              "      <td>588.91</td>\n",
              "      <td>1956</td>\n",
              "    </tr>\n",
              "    <tr>\n",
              "      <th>30</th>\n",
              "      <td>583.61</td>\n",
              "      <td>1956</td>\n",
              "    </tr>\n",
              "    <tr>\n",
              "      <th>40</th>\n",
              "      <td>560.09</td>\n",
              "      <td>1956</td>\n",
              "    </tr>\n",
              "    <tr>\n",
              "      <th>...</th>\n",
              "      <td>...</td>\n",
              "      <td>...</td>\n",
              "    </tr>\n",
              "    <tr>\n",
              "      <th>11066</th>\n",
              "      <td>20582.94</td>\n",
              "      <td>2021</td>\n",
              "    </tr>\n",
              "    <tr>\n",
              "      <th>11080</th>\n",
              "      <td>20070.30</td>\n",
              "      <td>2021</td>\n",
              "    </tr>\n",
              "    <tr>\n",
              "      <th>11094</th>\n",
              "      <td>21037.10</td>\n",
              "      <td>2021</td>\n",
              "    </tr>\n",
              "    <tr>\n",
              "      <th>11108</th>\n",
              "      <td>20660.00</td>\n",
              "      <td>2021</td>\n",
              "    </tr>\n",
              "    <tr>\n",
              "      <th>11122</th>\n",
              "      <td>21223.00</td>\n",
              "      <td>2021</td>\n",
              "    </tr>\n",
              "  </tbody>\n",
              "</table>\n",
              "<p>792 rows × 2 columns</p>\n",
              "</div>\n",
              "      <button class=\"colab-df-convert\" onclick=\"convertToInteractive('df-8287ea25-52cc-4883-a952-2b2f26ad47f1')\"\n",
              "              title=\"Convert this dataframe to an interactive table.\"\n",
              "              style=\"display:none;\">\n",
              "        \n",
              "  <svg xmlns=\"http://www.w3.org/2000/svg\" height=\"24px\"viewBox=\"0 0 24 24\"\n",
              "       width=\"24px\">\n",
              "    <path d=\"M0 0h24v24H0V0z\" fill=\"none\"/>\n",
              "    <path d=\"M18.56 5.44l.94 2.06.94-2.06 2.06-.94-2.06-.94-.94-2.06-.94 2.06-2.06.94zm-11 1L8.5 8.5l.94-2.06 2.06-.94-2.06-.94L8.5 2.5l-.94 2.06-2.06.94zm10 10l.94 2.06.94-2.06 2.06-.94-2.06-.94-.94-2.06-.94 2.06-2.06.94z\"/><path d=\"M17.41 7.96l-1.37-1.37c-.4-.4-.92-.59-1.43-.59-.52 0-1.04.2-1.43.59L10.3 9.45l-7.72 7.72c-.78.78-.78 2.05 0 2.83L4 21.41c.39.39.9.59 1.41.59.51 0 1.02-.2 1.41-.59l7.78-7.78 2.81-2.81c.8-.78.8-2.07 0-2.86zM5.41 20L4 18.59l7.72-7.72 1.47 1.35L5.41 20z\"/>\n",
              "  </svg>\n",
              "      </button>\n",
              "      \n",
              "  <style>\n",
              "    .colab-df-container {\n",
              "      display:flex;\n",
              "      flex-wrap:wrap;\n",
              "      gap: 12px;\n",
              "    }\n",
              "\n",
              "    .colab-df-convert {\n",
              "      background-color: #E8F0FE;\n",
              "      border: none;\n",
              "      border-radius: 50%;\n",
              "      cursor: pointer;\n",
              "      display: none;\n",
              "      fill: #1967D2;\n",
              "      height: 32px;\n",
              "      padding: 0 0 0 0;\n",
              "      width: 32px;\n",
              "    }\n",
              "\n",
              "    .colab-df-convert:hover {\n",
              "      background-color: #E2EBFA;\n",
              "      box-shadow: 0px 1px 2px rgba(60, 64, 67, 0.3), 0px 1px 3px 1px rgba(60, 64, 67, 0.15);\n",
              "      fill: #174EA6;\n",
              "    }\n",
              "\n",
              "    [theme=dark] .colab-df-convert {\n",
              "      background-color: #3B4455;\n",
              "      fill: #D2E3FC;\n",
              "    }\n",
              "\n",
              "    [theme=dark] .colab-df-convert:hover {\n",
              "      background-color: #434B5C;\n",
              "      box-shadow: 0px 1px 3px 1px rgba(0, 0, 0, 0.15);\n",
              "      filter: drop-shadow(0px 1px 2px rgba(0, 0, 0, 0.3));\n",
              "      fill: #FFFFFF;\n",
              "    }\n",
              "  </style>\n",
              "\n",
              "      <script>\n",
              "        const buttonEl =\n",
              "          document.querySelector('#df-8287ea25-52cc-4883-a952-2b2f26ad47f1 button.colab-df-convert');\n",
              "        buttonEl.style.display =\n",
              "          google.colab.kernel.accessAllowed ? 'block' : 'none';\n",
              "\n",
              "        async function convertToInteractive(key) {\n",
              "          const element = document.querySelector('#df-8287ea25-52cc-4883-a952-2b2f26ad47f1');\n",
              "          const dataTable =\n",
              "            await google.colab.kernel.invokeFunction('convertToInteractive',\n",
              "                                                     [key], {});\n",
              "          if (!dataTable) return;\n",
              "\n",
              "          const docLinkHtml = 'Like what you see? Visit the ' +\n",
              "            '<a target=\"_blank\" href=https://colab.research.google.com/notebooks/data_table.ipynb>data table notebook</a>'\n",
              "            + ' to learn more about interactive tables.';\n",
              "          element.innerHTML = '';\n",
              "          dataTable['output_type'] = 'display_data';\n",
              "          await google.colab.output.renderOutput(dataTable, element);\n",
              "          const docLink = document.createElement('div');\n",
              "          docLink.innerHTML = docLinkHtml;\n",
              "          element.appendChild(docLink);\n",
              "        }\n",
              "      </script>\n",
              "    </div>\n",
              "  </div>\n",
              "  "
            ],
            "text/plain": [
              "          VALUE  year\n",
              "0        525.63  1956\n",
              "10       545.15  1956\n",
              "20       588.91  1956\n",
              "30       583.61  1956\n",
              "40       560.09  1956\n",
              "...         ...   ...\n",
              "11066  20582.94  2021\n",
              "11080  20070.30  2021\n",
              "11094  21037.10  2021\n",
              "11108  20660.00  2021\n",
              "11122  21223.00  2021\n",
              "\n",
              "[792 rows x 2 columns]"
            ]
          },
          "metadata": {},
          "execution_count": 12
        }
      ]
    },
    {
      "cell_type": "code",
      "source": [
        "df = df[['year', 'VALUE']]"
      ],
      "metadata": {
        "id": "RhOedbSA_08M"
      },
      "execution_count": 13,
      "outputs": []
    },
    {
      "cell_type": "code",
      "source": [
        "df.plot(x='year',y='VALUE')\n"
      ],
      "metadata": {
        "colab": {
          "base_uri": "https://localhost:8080/",
          "height": 296
        },
        "id": "g_Ms0WK7_8wH",
        "outputId": "b365368f-d207-4381-c74b-7e8c5ba6707e"
      },
      "execution_count": 14,
      "outputs": [
        {
          "output_type": "execute_result",
          "data": {
            "text/plain": [
              "<matplotlib.axes._subplots.AxesSubplot at 0x7fb831d56ed0>"
            ]
          },
          "metadata": {},
          "execution_count": 14
        },
        {
          "output_type": "display_data",
          "data": {
            "image/png": "[encoded data removed]",
            "text/plain": [
              "<Figure size 432x288 with 1 Axes>"
            ]
          },
          "metadata": {
            "needs_background": "light"
          }
        }
      ]
    },
    {
      "cell_type": "code",
      "source": [
        "df.describe()"
      ],
      "metadata": {
        "colab": {
          "base_uri": "https://localhost:8080/",
          "height": 300
        },
        "id": "oy-8gnJYCBWj",
        "outputId": "a30b391e-62f1-4a0b-b88c-9a4aa8c3b49e"
      },
      "execution_count": 15,
      "outputs": [
        {
          "output_type": "execute_result",
          "data": {
            "text/html": [
              "\n",
              "  <div id=\"df-d8a8fed9-b4f3-4944-b3da-813eeb5b6706\">\n",
              "    <div class=\"colab-df-container\">\n",
              "      <div>\n",
              "<style scoped>\n",
              "    .dataframe tbody tr th:only-of-type {\n",
              "        vertical-align: middle;\n",
              "    }\n",
              "\n",
              "    .dataframe tbody tr th {\n",
              "        vertical-align: top;\n",
              "    }\n",
              "\n",
              "    .dataframe thead th {\n",
              "        text-align: right;\n",
              "    }\n",
              "</style>\n",
              "<table border=\"1\" class=\"dataframe\">\n",
              "  <thead>\n",
              "    <tr style=\"text-align: right;\">\n",
              "      <th></th>\n",
              "      <th>year</th>\n",
              "      <th>VALUE</th>\n",
              "    </tr>\n",
              "  </thead>\n",
              "  <tbody>\n",
              "    <tr>\n",
              "      <th>count</th>\n",
              "      <td>792.00000</td>\n",
              "      <td>792.000000</td>\n",
              "    </tr>\n",
              "    <tr>\n",
              "      <th>mean</th>\n",
              "      <td>1988.50000</td>\n",
              "      <td>5636.448270</td>\n",
              "    </tr>\n",
              "    <tr>\n",
              "      <th>std</th>\n",
              "      <td>19.06241</td>\n",
              "      <td>5434.998279</td>\n",
              "    </tr>\n",
              "    <tr>\n",
              "      <th>min</th>\n",
              "      <td>1956.00000</td>\n",
              "      <td>432.110000</td>\n",
              "    </tr>\n",
              "    <tr>\n",
              "      <th>25%</th>\n",
              "      <td>1972.00000</td>\n",
              "      <td>1005.252500</td>\n",
              "    </tr>\n",
              "    <tr>\n",
              "      <th>50%</th>\n",
              "      <td>1988.50000</td>\n",
              "      <td>3353.000000</td>\n",
              "    </tr>\n",
              "    <tr>\n",
              "      <th>75%</th>\n",
              "      <td>2005.00000</td>\n",
              "      <td>9646.757500</td>\n",
              "    </tr>\n",
              "    <tr>\n",
              "      <th>max</th>\n",
              "      <td>2021.00000</td>\n",
              "      <td>21223.000000</td>\n",
              "    </tr>\n",
              "  </tbody>\n",
              "</table>\n",
              "</div>\n",
              "      <button class=\"colab-df-convert\" onclick=\"convertToInteractive('df-d8a8fed9-b4f3-4944-b3da-813eeb5b6706')\"\n",
              "              title=\"Convert this dataframe to an interactive table.\"\n",
              "              style=\"display:none;\">\n",
              "        \n",
              "  <svg xmlns=\"http://www.w3.org/2000/svg\" height=\"24px\"viewBox=\"0 0 24 24\"\n",
              "       width=\"24px\">\n",
              "    <path d=\"M0 0h24v24H0V0z\" fill=\"none\"/>\n",
              "    <path d=\"M18.56 5.44l.94 2.06.94-2.06 2.06-.94-2.06-.94-.94-2.06-.94 2.06-2.06.94zm-11 1L8.5 8.5l.94-2.06 2.06-.94-2.06-.94L8.5 2.5l-.94 2.06-2.06.94zm10 10l.94 2.06.94-2.06 2.06-.94-2.06-.94-.94-2.06-.94 2.06-2.06.94z\"/><path d=\"M17.41 7.96l-1.37-1.37c-.4-.4-.92-.59-1.43-.59-.52 0-1.04.2-1.43.59L10.3 9.45l-7.72 7.72c-.78.78-.78 2.05 0 2.83L4 21.41c.39.39.9.59 1.41.59.51 0 1.02-.2 1.41-.59l7.78-7.78 2.81-2.81c.8-.78.8-2.07 0-2.86zM5.41 20L4 18.59l7.72-7.72 1.47 1.35L5.41 20z\"/>\n",
              "  </svg>\n",
              "      </button>\n",
              "      \n",
              "  <style>\n",
              "    .colab-df-container {\n",
              "      display:flex;\n",
              "      flex-wrap:wrap;\n",
              "      gap: 12px;\n",
              "    }\n",
              "\n",
              "    .colab-df-convert {\n",
              "      background-color: #E8F0FE;\n",
              "      border: none;\n",
              "      border-radius: 50%;\n",
              "      cursor: pointer;\n",
              "      display: none;\n",
              "      fill: #1967D2;\n",
              "      height: 32px;\n",
              "      padding: 0 0 0 0;\n",
              "      width: 32px;\n",
              "    }\n",
              "\n",
              "    .colab-df-convert:hover {\n",
              "      background-color: #E2EBFA;\n",
              "      box-shadow: 0px 1px 2px rgba(60, 64, 67, 0.3), 0px 1px 3px 1px rgba(60, 64, 67, 0.15);\n",
              "      fill: #174EA6;\n",
              "    }\n",
              "\n",
              "    [theme=dark] .colab-df-convert {\n",
              "      background-color: #3B4455;\n",
              "      fill: #D2E3FC;\n",
              "    }\n",
              "\n",
              "    [theme=dark] .colab-df-convert:hover {\n",
              "      background-color: #434B5C;\n",
              "      box-shadow: 0px 1px 3px 1px rgba(0, 0, 0, 0.15);\n",
              "      filter: drop-shadow(0px 1px 2px rgba(0, 0, 0, 0.3));\n",
              "      fill: #FFFFFF;\n",
              "    }\n",
              "  </style>\n",
              "\n",
              "      <script>\n",
              "        const buttonEl =\n",
              "          document.querySelector('#df-d8a8fed9-b4f3-4944-b3da-813eeb5b6706 button.colab-df-convert');\n",
              "        buttonEl.style.display =\n",
              "          google.colab.kernel.accessAllowed ? 'block' : 'none';\n",
              "\n",
              "        async function convertToInteractive(key) {\n",
              "          const element = document.querySelector('#df-d8a8fed9-b4f3-4944-b3da-813eeb5b6706');\n",
              "          const dataTable =\n",
              "            await google.colab.kernel.invokeFunction('convertToInteractive',\n",
              "                                                     [key], {});\n",
              "          if (!dataTable) return;\n",
              "\n",
              "          const docLinkHtml = 'Like what you see? Visit the ' +\n",
              "            '<a target=\"_blank\" href=https://colab.research.google.com/notebooks/data_table.ipynb>data table notebook</a>'\n",
              "            + ' to learn more about interactive tables.';\n",
              "          element.innerHTML = '';\n",
              "          dataTable['output_type'] = 'display_data';\n",
              "          await google.colab.output.renderOutput(dataTable, element);\n",
              "          const docLink = document.createElement('div');\n",
              "          docLink.innerHTML = docLinkHtml;\n",
              "          element.appendChild(docLink);\n",
              "        }\n",
              "      </script>\n",
              "    </div>\n",
              "  </div>\n",
              "  "
            ],
            "text/plain": [
              "             year         VALUE\n",
              "count   792.00000    792.000000\n",
              "mean   1988.50000   5636.448270\n",
              "std      19.06241   5434.998279\n",
              "min    1956.00000    432.110000\n",
              "25%    1972.00000   1005.252500\n",
              "50%    1988.50000   3353.000000\n",
              "75%    2005.00000   9646.757500\n",
              "max    2021.00000  21223.000000"
            ]
          },
          "metadata": {},
          "execution_count": 15
        }
      ]
    },
    {
      "cell_type": "code",
      "source": [
        "training_set = df.iloc[:, 1:2].values"
      ],
      "metadata": {
        "id": "n1IeWSlyCIf4"
      },
      "execution_count": 34,
      "outputs": []
    },
    {
      "cell_type": "code",
      "source": [
        "from sklearn.preprocessing import MinMaxScaler\n",
        "sc = MinMaxScaler(feature_range = (0, 1))\n",
        "training_set_scaled = sc.fit_transform(training_set)\n",
        "print(training_set_scaled.shape)"
      ],
      "metadata": {
        "colab": {
          "base_uri": "https://localhost:8080/"
        },
        "id": "IsT9esHIC6bf",
        "outputId": "176dda1f-52a5-495a-95cc-48696614a1c1"
      },
      "execution_count": 35,
      "outputs": [
        {
          "output_type": "stream",
          "name": "stdout",
          "text": [
            "(792, 1)\n"
          ]
        }
      ]
    },
    {
      "cell_type": "code",
      "source": [
        "stock_data_len = df['VALUE'].count()\n",
        "print(stock_data_len)"
      ],
      "metadata": {
        "colab": {
          "base_uri": "https://localhost:8080/"
        },
        "id": "RE0OLNk1DVFR",
        "outputId": "fa29aa5b-9671-426f-86dd-150549d370e8"
      },
      "execution_count": 36,
      "outputs": [
        {
          "output_type": "stream",
          "name": "stdout",
          "text": [
            "792\n"
          ]
        }
      ]
    },
    {
      "cell_type": "code",
      "source": [
        "features = []\n",
        "labels = []\n",
        "for i in range(60, stock_data_len):\n",
        "    features.append(training_set_scaled[i-60:i, 0])\n",
        "    labels.append(training_set_scaled[i,0])\n",
        "\n",
        "features = np.array(features)\n",
        "labels = np.array(labels)\n",
        "\n",
        "features = np.reshape(features, (features.shape[0], features.shape[1], 1))"
      ],
      "metadata": {
        "id": "fF1c_ZUmDADa"
      },
      "execution_count": 37,
      "outputs": []
    },
    {
      "cell_type": "code",
      "source": [
        "print(labels)"
      ],
      "metadata": {
        "colab": {
          "base_uri": "https://localhost:8080/"
        },
        "id": "_iwW_S2rDPmM",
        "outputId": "5e23f4fb-b94d-441f-e2e4-c6e4c85c155a"
      },
      "execution_count": 38,
      "outputs": [
        {
          "output_type": "stream",
          "name": "stdout",
          "text": [
            "[0.00690158 0.00780582 0.008345   0.00968357 0.01029201 0.0105123\n",
            " 0.01107408 0.01155939 0.01103801 0.01122655 0.01219669 0.01292585\n",
            " 0.01205913 0.01225056 0.01221208 0.01132419 0.00867207 0.00675055\n",
            " 0.00740565 0.00808864 0.00672073 0.00714688 0.0093339  0.00946953\n",
            " 0.01095576 0.00992454 0.01084177 0.01236647 0.01290469 0.0116551\n",
            " 0.01078405 0.01099568 0.01195283 0.01221304 0.01188213 0.01301532\n",
            " 0.01391619 0.01362376 0.01496232 0.01627395 0.01755721 0.01748458\n",
            " 0.0183566  0.01811996 0.01979136 0.01993902 0.02010448 0.02026945\n",
            " 0.02257191 0.02238192 0.02200146 0.02304615 0.02294274 0.01996018\n",
            " 0.01954269 0.0205287  0.0212242  0.02196876 0.02076102 0.02159744\n",
            " 0.02335831 0.02227418 0.02168835 0.02208227 0.02066434 0.02043347\n",
            " 0.01975192 0.01675109 0.01582424 0.01653513 0.01628838 0.01719022\n",
            " 0.01978415 0.02016845 0.0215402  0.02241559 0.02080094 0.02187497\n",
            " 0.02324768 0.02272774 0.02358677 0.0209967  0.02205678 0.02246609\n",
            " 0.02123574 0.01939407 0.01840614 0.0219019  0.02149836 0.02372578\n",
            " 0.02347326 0.02461847 0.02679058 0.02750532 0.02931332 0.03033877\n",
            " 0.03168263 0.02919115 0.03078512 0.03224249 0.03361713 0.0277256\n",
            " 0.02494554 0.02724366 0.02691948 0.02758804 0.02881791 0.02826526\n",
            " 0.02636347 0.02762219 0.02760584 0.02335686 0.01905161 0.01821327\n",
            " 0.01999289 0.02106115 0.02294659 0.02171913 0.02357186 0.02479115\n",
            " 0.02611817 0.02608787 0.02734948 0.02813203 0.02601813 0.02668188\n",
            " 0.02652027 0.02617589 0.0254852  0.02161043 0.02180907 0.02685936\n",
            " 0.03111026 0.03284034 0.03153352 0.03208184 0.03353873 0.03233051\n",
            " 0.03356037 0.03641884 0.03536789 0.03389129 0.03629619 0.03821241\n",
            " 0.03918591 0.03934031 0.03881652 0.03684691 0.03469212 0.03448097\n",
            " 0.03820375 0.03674157 0.03935714 0.04267013 0.03609562 0.03634621\n",
            " 0.03676274 0.0389435  0.03764966 0.03212032 0.028841   0.02775831\n",
            " 0.03005403 0.02346076 0.01996451 0.02229823 0.02011891 0.0193984\n",
            " 0.02633317 0.02761883 0.02681415 0.02772464 0.02879098 0.0299737\n",
            " 0.02979959 0.02918538 0.02617781 0.02399224 0.02639137 0.02507973\n",
            " 0.02921087 0.0308919  0.02991599 0.03092268 0.03096597 0.02998621\n",
            " 0.02972263 0.0296375  0.02869959 0.02681174 0.02347134 0.02786846\n",
            " 0.02715083 0.0277434  0.02837781 0.02706378 0.02640964 0.02881695\n",
            " 0.02892709 0.02747309 0.02731773 0.02589692 0.02815512 0.03018053\n",
            " 0.02723933 0.02758756 0.03035705 0.03123435 0.03350746 0.03338241\n",
            " 0.03663528 0.0384832  0.04100594 0.03769584 0.0402912  0.04217665\n",
            " 0.04440839 0.04584941 0.04974583 0.0506087  0.05230945 0.05705864\n",
            " 0.05415785 0.0607569  0.06347876 0.05517609 0.06096468 0.06642621\n",
            " 0.07674467 0.08467507 0.06567636 0.06915625 0.07405263 0.07836317\n",
            " 0.08490594 0.0858982  0.08791976 0.08696309 0.09475881 0.08833629\n",
            " 0.08631425 0.08404691 0.09143283 0.09015102 0.09326729 0.09278198\n",
            " 0.08762444 0.08391175 0.06980509 0.06784269 0.07599386 0.07321139\n",
            " 0.06516316 0.05960447 0.05558781 0.05368024 0.05250232 0.04495671\n",
            " 0.04712593 0.05681383 0.05626984 0.06454413 0.06763539 0.07339609\n",
            " 0.076926   0.07975897 0.08291853 0.09180463 0.09564478 0.09691071\n",
            " 0.09838492 0.09864801 0.09944115 0.09277958 0.10142808 0.10197928\n",
            " 0.09796454 0.09560533 0.0937906  0.09096436 0.08646287 0.08603913\n",
            " 0.08214559 0.09411334 0.09429803 0.09240345 0.09313839 0.09466742\n",
            " 0.10403306 0.1040297  0.10488728 0.10596949 0.11082739 0.10968217\n",
            " 0.11286145 0.11485175 0.10582231 0.1078708  0.11664099 0.11872941\n",
            " 0.11595704 0.11657606 0.12578346 0.1273048  0.12937686 0.12762272\n",
            " 0.12039985 0.12486671 0.12251472 0.12538088 0.12576133 0.12669347\n",
            " 0.14028933 0.14750787 0.15907737 0.1579841  0.15646901 0.159112\n",
            " 0.17306811 0.17130051 0.16691253 0.12443719 0.12246854 0.13120843\n",
            " 0.12626251 0.13336226 0.13860301 0.1398526  0.13549733 0.14474465\n",
            " 0.1416303  0.13725771 0.13715623 0.14253406 0.13768386 0.14226808\n",
            " 0.15316949 0.15102817 0.15132156 0.15370867 0.15753679 0.16010859\n",
            " 0.17020387 0.17209893 0.16887156 0.16769797 0.16885713 0.17015529\n",
            " 0.15739538 0.15654404 0.15427382 0.13991176 0.15150289 0.14967565\n",
            " 0.15050294 0.14016668 0.13117716 0.12741879 0.13077795 0.13586191\n",
            " 0.1366411  0.14574941 0.14735252 0.14606349 0.14978147 0.14591535\n",
            " 0.14946594 0.14841981 0.14216659 0.14831736 0.14508277 0.14815383\n",
            " 0.15218252 0.15150049 0.14333345 0.14061207 0.142169   0.14215794\n",
            " 0.14483796 0.14288999 0.13783777 0.13967704 0.1371139  0.1403658\n",
            " 0.13820284 0.14523573 0.1524865  0.16147938 0.16596548 0.1699908\n",
            " 0.17003216 0.17822421 0.17115669 0.18389929 0.18027607 0.18706847\n",
            " 0.1982955  0.19199419 0.18746239 0.18445627 0.18732531 0.17282281\n",
            " 0.18021643 0.18841858 0.18864368 0.18563611 0.17610117 0.18188255\n",
            " 0.17244909 0.17761144 0.18669234 0.18505028 0.19318702 0.19696319\n",
            " 0.201191   0.19646057 0.19708824 0.19369301 0.20340976 0.20592817\n",
            " 0.21818787 0.21651839 0.2183033  0.22675124 0.23155767 0.221826\n",
            " 0.21629858 0.22660502 0.2337062  0.24850836 0.26860611 0.2642946\n",
            " 0.27307489 0.2753961  0.2606002  0.26668026 0.28618352 0.28885873\n",
            " 0.31001896 0.29723018 0.31783728 0.30832013 0.292468   0.30144597\n",
            " 0.30148252 0.32035088 0.34276503 0.34788698 0.34426953 0.33354897\n",
            " 0.31260422 0.24523241 0.24924426 0.27782216 0.28434377 0.29117705\n",
            " 0.30289468 0.28284407 0.29655681 0.31660934 0.3082932  0.31638665\n",
            " 0.31979968 0.31449832 0.31386872 0.32822597 0.34106861 0.38390083\n",
            " 0.38714071 0.41830244 0.43433831 0.42881762 0.42421849 0.46959702\n",
            " 0.47973896 0.52021823 0.47837346 0.44286031 0.40343679 0.40890842\n",
            " 0.42757958 0.36778656 0.34514588 0.3614333  0.37178591 0.35131926\n",
            " 0.349075   0.33510398 0.30813736 0.3104047  0.33637521 0.34901344\n",
            " 0.34709337 0.34656477 0.3568563  0.34781003 0.34746084 0.32290585\n",
            " 0.2969238  0.29723788 0.27648215 0.27977061 0.29524037 0.29736245\n",
            " 0.29519564 0.29450447 0.28431587 0.2959931  0.30915896 0.31509137\n",
            " 0.32830773 0.34044767 0.33615781 0.35306762 0.35723723 0.37462466\n",
            " 0.3890781  0.40192507 0.39218235 0.37573476 0.38407254 0.39024159\n",
            " 0.38603254 0.38213468 0.3961437  0.4058922  0.41354362 0.42396165\n",
            " 0.42191267 0.44424313 0.44155253 0.42986087 0.44130819 0.4555197\n",
            " 0.48053835 0.49237094 0.50886326 0.47863319 0.49983575 0.52138942\n",
            " 0.55377764 0.54140203 0.56171237 0.56621241 0.54410417 0.53777207\n",
            " 0.54826176 0.55993947 0.54490981 0.57296633 0.59258021 0.60008398\n",
            " 0.60613134 0.60665561 0.61245045 0.62453171 0.65531923 0.64809443\n",
            " 0.64626959 0.636258   0.65734464 0.68264947 0.63763552 0.64455875\n",
            " 0.61195023 0.63251645 0.62133078 0.64955998 0.6869653  0.67505143\n",
            " 0.63300801 0.64158581 0.54450723 0.4487855  0.42511456 0.41150667\n",
            " 0.39742358 0.36991731 0.3986496  0.42772195 0.47799589 0.47822869\n",
            " 0.4980566  0.50195542 0.52729104 0.50400151 0.52980368 0.54418065\n",
            " 0.51283038 0.53857819 0.55820698 0.56652649 0.54499254 0.52245527\n",
            " 0.54260881 0.55224909 0.57412357 0.58891803 0.60222386 0.62580823\n",
            " 0.63103984 0.6591536  0.6581724  0.64993273 0.64310715 0.61896148\n",
            " 0.60187515 0.59336517 0.53829971 0.56851583 0.56620953 0.55423217\n",
            " 0.57813975 0.58736783 0.57525532 0.57047005 0.53297863 0.53698759\n",
            " 0.54026547 0.55395175 0.57166143 0.57673337 0.56790498 0.57724417\n",
            " 0.58935091 0.59592062 0.59246093 0.57834898 0.58767614 0.56260218\n",
            " 0.57979865 0.58784352 0.59425498 0.62186612 0.62350818 0.63438554\n",
            " 0.63791545 0.66266908 0.66871596 0.68394186 0.68164711 0.707709\n",
            " 0.71659414 0.73078257 0.69878682 0.68208768 0.6884068  0.68300732\n",
            " 0.68498126 0.7119575  0.69599377 0.71148517 0.70136391 0.67920229\n",
            " 0.67511925 0.64581218 0.61925439 0.62994225 0.62708811 0.60496881\n",
            " 0.59593505 0.59777335 0.62826796 0.65025307 0.65575211 0.65569247\n",
            " 0.68061685 0.68134842 0.68750063 0.69045433 0.70467113 0.71451871\n",
            " 0.71925011 0.71988886 0.72703189 0.72887789 0.71751618 0.70944919\n",
            " 0.70760607 0.71087673 0.73122555 0.75001503 0.75202986 0.75884294\n",
            " 0.74645963 0.72197823 0.71835212 0.72992402 0.75174223 0.76214246\n",
            " 0.76965921 0.7614282  0.75230209 0.70199833 0.71020096 0.66811714\n",
            " 0.72668799 0.74873659 0.75369453 0.77671615 0.7505874  0.76716725\n",
            " 0.76833892 0.77004688 0.78046298 0.77202323 0.79881573 0.79993305\n",
            " 0.81220092 0.76143638 0.62270735 0.69014025 0.70996095 0.72546726\n",
            " 0.75692238 0.77352773 0.75462234 0.72861383 0.80603283 0.81772594\n",
            " 0.81309218 0.84787857 0.878681   0.89828863 0.92823732 0.94914022\n",
            " 0.95501876 0.9692144  0.94455745 0.99105858 0.97292083 1.        ]\n"
          ]
        }
      ]
    },
    {
      "cell_type": "code",
      "source": [
        "print(features)"
      ],
      "metadata": {
        "colab": {
          "base_uri": "https://localhost:8080/"
        },
        "id": "QEmb-tgcDk0U",
        "outputId": "53fe4e32-33c5-4d79-c973-77b0f718496d"
      },
      "execution_count": 39,
      "outputs": [
        {
          "output_type": "stream",
          "name": "stdout",
          "text": [
            "[[[0.00449812]\n",
            "  [0.005437  ]\n",
            "  [0.00754176]\n",
            "  ...\n",
            "  [0.00327499]\n",
            "  [0.00419992]\n",
            "  [0.00541728]]\n",
            "\n",
            " [[0.005437  ]\n",
            "  [0.00754176]\n",
            "  [0.00728685]\n",
            "  ...\n",
            "  [0.00419992]\n",
            "  [0.00541728]\n",
            "  [0.00690158]]\n",
            "\n",
            " [[0.00754176]\n",
            "  [0.00728685]\n",
            "  [0.00615558]\n",
            "  ...\n",
            "  [0.00541728]\n",
            "  [0.00690158]\n",
            "  [0.00780582]]\n",
            "\n",
            " ...\n",
            "\n",
            " [[0.69045433]\n",
            "  [0.70467113]\n",
            "  [0.71451871]\n",
            "  ...\n",
            "  [0.95501876]\n",
            "  [0.9692144 ]\n",
            "  [0.94455745]]\n",
            "\n",
            " [[0.70467113]\n",
            "  [0.71451871]\n",
            "  [0.71925011]\n",
            "  ...\n",
            "  [0.9692144 ]\n",
            "  [0.94455745]\n",
            "  [0.99105858]]\n",
            "\n",
            " [[0.71451871]\n",
            "  [0.71925011]\n",
            "  [0.71988886]\n",
            "  ...\n",
            "  [0.94455745]\n",
            "  [0.99105858]\n",
            "  [0.97292083]]]\n"
          ]
        }
      ]
    },
    {
      "cell_type": "code",
      "source": [
        "print(features.shape)"
      ],
      "metadata": {
        "colab": {
          "base_uri": "https://localhost:8080/"
        },
        "id": "_AmBhHBuDoHO",
        "outputId": "8d0b7bbc-3bcb-4f74-9c2b-9f6dd78ceab6"
      },
      "execution_count": 40,
      "outputs": [
        {
          "output_type": "stream",
          "name": "stdout",
          "text": [
            "(732, 60, 1)\n"
          ]
        }
      ]
    },
    {
      "cell_type": "code",
      "source": [
        "import tensorflow as tf"
      ],
      "metadata": {
        "id": "1bTurM3hDswa"
      },
      "execution_count": 41,
      "outputs": []
    },
    {
      "cell_type": "code",
      "source": [
        "model = tf.keras.models.Sequential([\n",
        "    tf.keras.layers.LSTM(units = 50, return_sequences = True, input_shape = (features.shape[1], 1)),\n",
        "    tf.keras.layers.Dropout(0.2),\n",
        "    tf.keras.layers.LSTM(units = 50, return_sequences = True),\n",
        "    tf.keras.layers.Dropout(0.2),\n",
        "    tf.keras.layers.LSTM(units = 50, return_sequences = True),\n",
        "    tf.keras.layers.Dropout(0.2),\n",
        "    tf.keras.layers.LSTM(units = 50),\n",
        "    tf.keras.layers.Dropout(0.2),\n",
        "    tf.keras.layers.Dense(units = 1)\n",
        "])"
      ],
      "metadata": {
        "id": "Ocoe0aQLDvkY"
      },
      "execution_count": 42,
      "outputs": []
    },
    {
      "cell_type": "code",
      "source": [
        "print(model.summary())"
      ],
      "metadata": {
        "colab": {
          "base_uri": "https://localhost:8080/"
        },
        "id": "rEFucYgiDyN1",
        "outputId": "791305e7-2c76-4ef2-e165-f2dd7b569818"
      },
      "execution_count": 43,
      "outputs": [
        {
          "output_type": "stream",
          "name": "stdout",
          "text": [
            "Model: \"sequential\"\n",
            "_________________________________________________________________\n",
            " Layer (type)                Output Shape              Param #   \n",
            "=================================================================\n",
            " lstm (LSTM)                 (None, 60, 50)            10400     \n",
            "                                                                 \n",
            " dropout (Dropout)           (None, 60, 50)            0         \n",
            "                                                                 \n",
            " lstm_1 (LSTM)               (None, 60, 50)            20200     \n",
            "                                                                 \n",
            " dropout_1 (Dropout)         (None, 60, 50)            0         \n",
            "                                                                 \n",
            " lstm_2 (LSTM)               (None, 60, 50)            20200     \n",
            "                                                                 \n",
            " dropout_2 (Dropout)         (None, 60, 50)            0         \n",
            "                                                                 \n",
            " lstm_3 (LSTM)               (None, 50)                20200     \n",
            "                                                                 \n",
            " dropout_3 (Dropout)         (None, 50)                0         \n",
            "                                                                 \n",
            " dense (Dense)               (None, 1)                 51        \n",
            "                                                                 \n",
            "=================================================================\n",
            "Total params: 71,051\n",
            "Trainable params: 71,051\n",
            "Non-trainable params: 0\n",
            "_________________________________________________________________\n",
            "None\n"
          ]
        }
      ]
    },
    {
      "cell_type": "code",
      "source": [
        "tf.keras.utils.plot_model(model)"
      ],
      "metadata": {
        "colab": {
          "base_uri": "https://localhost:8080/",
          "height": 953
        },
        "id": "L5D2IYOXD8qU",
        "outputId": "f517379e-a41e-44a6-81f2-d757117a0c9c"
      },
      "execution_count": 44,
      "outputs": [
        {
          "output_type": "execute_result",
          "data": {
            "image/png": "[encoded data removed]",
            "text/plain": [
              "<IPython.core.display.Image object>"
            ]
          },
          "metadata": {},
          "execution_count": 44
        }
      ]
    },
    {
      "cell_type": "code",
      "source": [
        "model.compile(optimizer = 'adam', loss = 'mean_squared_error')"
      ],
      "metadata": {
        "id": "d1nkbEmZELUE"
      },
      "execution_count": 45,
      "outputs": []
    },
    {
      "cell_type": "code",
      "source": [
        "from time import time\n",
        "start = time()\n",
        "history = model.fit(features, labels, epochs = 20, batch_size = 32, verbose = 1)\n",
        "end = time()"
      ],
      "metadata": {
        "colab": {
          "base_uri": "https://localhost:8080/"
        },
        "id": "EXQHwomTES78",
        "outputId": "5dd028b2-c51d-42ca-abe4-ed6c42e3ca0d"
      },
      "execution_count": 46,
      "outputs": [
        {
          "output_type": "stream",
          "name": "stdout",
          "text": [
            "Epoch 1/20\n",
            "23/23 [==============================] - 12s 61ms/step - loss: 0.0315\n",
            "Epoch 2/20\n",
            "23/23 [==============================] - 1s 61ms/step - loss: 0.0051\n",
            "Epoch 3/20\n",
            "23/23 [==============================] - 1s 62ms/step - loss: 0.0047\n",
            "Epoch 4/20\n",
            "23/23 [==============================] - 1s 61ms/step - loss: 0.0041\n",
            "Epoch 5/20\n",
            "23/23 [==============================] - 1s 62ms/step - loss: 0.0047\n",
            "Epoch 6/20\n",
            "23/23 [==============================] - 1s 61ms/step - loss: 0.0038\n",
            "Epoch 7/20\n",
            "23/23 [==============================] - 1s 60ms/step - loss: 0.0041\n",
            "Epoch 8/20\n",
            "23/23 [==============================] - 1s 61ms/step - loss: 0.0039\n",
            "Epoch 9/20\n",
            "23/23 [==============================] - 1s 61ms/step - loss: 0.0038\n",
            "Epoch 10/20\n",
            "23/23 [==============================] - 1s 61ms/step - loss: 0.0038\n",
            "Epoch 11/20\n",
            "23/23 [==============================] - 1s 61ms/step - loss: 0.0038\n",
            "Epoch 12/20\n",
            "23/23 [==============================] - 1s 60ms/step - loss: 0.0043\n",
            "Epoch 13/20\n",
            "23/23 [==============================] - 1s 61ms/step - loss: 0.0037\n",
            "Epoch 14/20\n",
            "23/23 [==============================] - 1s 61ms/step - loss: 0.0031\n",
            "Epoch 15/20\n",
            "23/23 [==============================] - 1s 61ms/step - loss: 0.0031\n",
            "Epoch 16/20\n",
            "23/23 [==============================] - 1s 61ms/step - loss: 0.0033\n",
            "Epoch 17/20\n",
            "23/23 [==============================] - 1s 61ms/step - loss: 0.0030\n",
            "Epoch 18/20\n",
            "23/23 [==============================] - 1s 61ms/step - loss: 0.0030\n",
            "Epoch 19/20\n",
            "23/23 [==============================] - 1s 61ms/step - loss: 0.0038\n",
            "Epoch 20/20\n",
            "23/23 [==============================] - 1s 61ms/step - loss: 0.0032\n"
          ]
        }
      ]
    },
    {
      "cell_type": "code",
      "source": [
        "print('Total training time {} seconds'.format(end - start))"
      ],
      "metadata": {
        "colab": {
          "base_uri": "https://localhost:8080/"
        },
        "id": "he9p8dq6EV9Y",
        "outputId": "822b03f6-0c33-4494-bf9c-75508e1162b4"
      },
      "execution_count": 47,
      "outputs": [
        {
          "output_type": "stream",
          "name": "stdout",
          "text": [
            "Total training time 38.753117084503174 seconds\n"
          ]
        }
      ]
    },
    {
      "cell_type": "code",
      "source": [
        "print(features.shape)"
      ],
      "metadata": {
        "colab": {
          "base_uri": "https://localhost:8080/"
        },
        "id": "l-98DmX4EiCU",
        "outputId": "6e6b5dae-6633-442e-bc4d-c2e8040bf423"
      },
      "execution_count": 48,
      "outputs": [
        {
          "output_type": "stream",
          "name": "stdout",
          "text": [
            "(732, 60, 1)\n"
          ]
        }
      ]
    },
    {
      "cell_type": "code",
      "source": [
        "test_data = df.iloc[:60, 1:2].values"
      ],
      "metadata": {
        "id": "yvG3xXZc1ixD"
      },
      "execution_count": 57,
      "outputs": []
    },
    {
      "cell_type": "code",
      "source": [
        "print(test_data.shape)"
      ],
      "metadata": {
        "colab": {
          "base_uri": "https://localhost:8080/"
        },
        "id": "XIC37vuX2mYz",
        "outputId": "e597e654-f9a0-46a0-b3bd-70c689824fa7"
      },
      "execution_count": 58,
      "outputs": [
        {
          "output_type": "stream",
          "name": "stdout",
          "text": [
            "(60, 1)\n"
          ]
        }
      ]
    },
    {
      "cell_type": "code",
      "source": [
        "test_predicted = model.predict(test_data)"
      ],
      "metadata": {
        "colab": {
          "base_uri": "https://localhost:8080/"
        },
        "id": "3OwtaAIj3iyM",
        "outputId": "4b3b201e-523d-4973-9b61-fe4f3671d4c3"
      },
      "execution_count": 59,
      "outputs": [
        {
          "output_type": "stream",
          "name": "stdout",
          "text": [
            "WARNING:tensorflow:Model was constructed with shape (None, 60, 1) for input KerasTensor(type_spec=TensorSpec(shape=(None, 60, 1), dtype=tf.float32, name='lstm_input'), name='lstm_input', description=\"created by layer 'lstm_input'\"), but it was called on an input with incompatible shape (None, 1, 1).\n"
          ]
        }
      ]
    },
    {
      "cell_type": "code",
      "source": [
        "test_inverse_predicted = sc.inverse_transform(test_predicted)"
      ],
      "metadata": {
        "id": "vcRGjhoU3w1l"
      },
      "execution_count": 61,
      "outputs": []
    },
    {
      "cell_type": "code",
      "source": [
        "plt.figure(figsize=(10,6))  \n",
        "plt.plot(test_stock_data_processed, color='blue', label='Actual Price')  \n",
        "plt.plot(test_predicted , color='red', label='Predicted Price')  \n",
        "plt.title('Price Prediction')  \n",
        "plt.xlabel('Date')  \n",
        "plt.ylabel('Price')  \n",
        "plt.legend()  \n",
        "plt.show()  "
      ],
      "metadata": {
        "colab": {
          "base_uri": "https://localhost:8080/",
          "height": 404
        },
        "id": "C6T07KN64rw3",
        "outputId": "36a1fa68-31ac-49cd-b169-941de9380e01"
      },
      "execution_count": 64,
      "outputs": [
        {
          "output_type": "display_data",
          "data": {
            "image/png": "[encoded data removed]",
            "text/plain": [
              "<Figure size 720x432 with 1 Axes>"
            ]
          },
          "metadata": {
            "needs_background": "light"
          }
        }
      ]
    },
    {
      "cell_type": "code",
      "source": [
        ""
      ],
      "metadata": {
        "id": "gbuu5bA35lGi"
      },
      "execution_count": null,
      "outputs": []
    }
  ]
}